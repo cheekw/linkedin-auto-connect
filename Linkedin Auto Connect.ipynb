{
 "cells": [
  {
   "cell_type": "code",
   "execution_count": 367,
   "metadata": {},
   "outputs": [],
   "source": [
    "import csv\n",
    "from selenium import webdriver\n",
    "from selenium.webdriver.common.by import By"
   ]
  },
  {
   "cell_type": "code",
   "execution_count": 368,
   "metadata": {},
   "outputs": [],
   "source": [
    "def clean_data(file_path):\n",
    "    data = []\n",
    "    with open(file_path) as csv_file:\n",
    "        reader = csv.reader(csv_file, delimiter=',')\n",
    "        headers = next(reader, None)\n",
    "        for row in reader:\n",
    "            linkedin_url = row[1]\n",
    "            if 'linkedin.com/in/' in linkedin_url:\n",
    "                if not linkedin_url.startswith('https://'):\n",
    "                    \n",
    "                    row[1] = 'https://' + row[1][row[1].index('linkedin.com/in/'):]\n",
    "                data.append(row)\n",
    "    return data"
   ]
  },
  {
   "cell_type": "code",
   "execution_count": 369,
   "metadata": {},
   "outputs": [],
   "source": [
    "def login_to_linkedin(driver, username, password):\n",
    "    username_element = driver.find_element(By.NAME, \"session_key\")\n",
    "    username_element.send_keys(username)\n",
    "    password_element = driver.find_element(By.NAME, \"session_password\")\n",
    "    password_element.send_keys(password)\n",
    "    driver.find_element(By.XPATH, \"//button[@type='submit']\").click()"
   ]
  },
  {
   "cell_type": "code",
   "execution_count": 378,
   "metadata": {},
   "outputs": [],
   "source": [
    "def send_connection_requests(driver, data):\n",
    "    failed = []\n",
    "    success = []\n",
    "    count = 1;\n",
    "    for person in data:\n",
    "        name = person[0]\n",
    "        linkedin_url = person[1]\n",
    "        print('Trying for ' + str(count) + ': ' + name)\n",
    "        count += 1\n",
    "        try:\n",
    "            driver.get(linkedin_url)\n",
    "            driver.implicitly_wait(5)\n",
    "            name = driver.find_element(By.TAG_NAME, \"h1\").text\n",
    "            print('Found: ' + name)\n",
    "            try:\n",
    "                blue_button = driver.find_element(By.CLASS_NAME, \"artdeco-button--primary\")\n",
    "                button_html = blue_button.get_attribute('innerHTML').lower()\n",
    "                if 'connect' in button_html:\n",
    "                    driver.execute_script(\"arguments[0].click();\", blue_button)\n",
    "                    driver.implicitly_wait(1)\n",
    "                    modal = driver.find_element(By.CLASS_NAME, 'artdeco-modal')\n",
    "                    send_button = modal.find_element(By.CLASS_NAME, \"artdeco-button--primary\")\n",
    "                    if 'Connect' in send_button.get_attribute('innerHTML'):\n",
    "                        option = driver.find_element(By.CLASS_NAME, 'artdeco-pill--slate')\n",
    "                        print(option.get_attribute('innerHTML'))\n",
    "                        driver.execute_script(\"arguments[0].click();\", option)\n",
    "                        driver.implicitly_wait(1)\n",
    "                        driver.execute_script(\"arguments[0].click();\", send_button)\n",
    "                        driver.implicitly_wait(1)\n",
    "                    send_button = driver.find_element(By.CLASS_NAME, \"artdeco-button--primary\")\n",
    "                    driver.execute_script(\"arguments[0].click();\", send_button)\n",
    "                    print('Connection Request Sent!')\n",
    "                elif 'accept' in button_html:\n",
    "        #             driver.execute_script(\"arguments[0].click();\", blue_button)\n",
    "                    print('Connection Request Accepted!')\n",
    "                elif 'follow' in button_html:\n",
    "                    print('Failed for Weird Case :/')\n",
    "                    failed.append(person)\n",
    "                elif 'message' in button_html or 'pending' in button_html:\n",
    "                    print('Already Connected!')\n",
    "                elif 'open' in button_html:\n",
    "                    print('Yourself :)')\n",
    "                else:\n",
    "                    print('Failed for unknown reason :(')\n",
    "                    failed.append(person)\n",
    "            except:\n",
    "                print('Already Connected!')\n",
    "        except:\n",
    "            print('Failed to connect to URL: ' + [linkedin_url[30]])\n",
    "            failed.append(person)\n",
    "        print()\n",
    "    return failed"
   ]
  },
  {
   "cell_type": "code",
   "execution_count": null,
   "metadata": {},
   "outputs": [],
   "source": [
    "USERNAME = ''\n",
    "PASSWORD = ''\n",
    "\n",
    "driver = webdriver.Chrome('./chromedriver')\n",
    "driver.get('https://www.linkedin.com/login?fromSignIn=true&trk=guest_homepage-basic_nav-header-signin')\n",
    "driver.implicitly_wait(5)\n",
    "login_to_linkedin(driver, USERNAME, PASSWORD)\n",
    "driver.implicitly_wait(5)\n",
    "file_path = './data.csv'\n",
    "linkedin_links = clean_data(file_path)\n",
    "failed = send_connection_requests(driver, linkedin_links)"
   ]
  }
 ],
 "metadata": {
  "kernelspec": {
   "display_name": "Python 3",
   "language": "python",
   "name": "python3"
  },
  "language_info": {
   "codemirror_mode": {
    "name": "ipython",
    "version": 3
   },
   "file_extension": ".py",
   "mimetype": "text/x-python",
   "name": "python",
   "nbconvert_exporter": "python",
   "pygments_lexer": "ipython3",
   "version": "3.7.4"
  }
 },
 "nbformat": 4,
 "nbformat_minor": 4
}
